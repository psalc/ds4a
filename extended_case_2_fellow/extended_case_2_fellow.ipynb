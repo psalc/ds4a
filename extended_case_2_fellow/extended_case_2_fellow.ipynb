{
 "cells": [
  {
   "cell_type": "markdown",
   "metadata": {
    "deletable": false,
    "editable": false,
    "nbgrader": {
     "cell_type": "markdown",
     "checksum": "1aaa6711b76db6b8949df60c918b2721",
     "grade": false,
     "grade_id": "cell-2b3859e9f281ea73",
     "locked": true,
     "schema_version": 3,
     "solution": false,
     "task": false
    }
   },
   "source": [
    "# What are the most serious meteorological disasters in the United States?\n",
    "\n",
    "![A photo of a tornado](data/images/tornado.jpg)"
   ]
  },
  {
   "cell_type": "markdown",
   "metadata": {
    "deletable": false,
    "editable": false,
    "nbgrader": {
     "cell_type": "markdown",
     "checksum": "c2e0602342ea9f90860dc176038bfb1e",
     "grade": false,
     "grade_id": "cell-b44b0e18abbc2818",
     "locked": true,
     "schema_version": 3,
     "solution": false,
     "task": false
    }
   },
   "source": [
    "## Introduction\n",
    "\n",
    "**Business Context.** While natural *events* often cannot be avoided, the risks they present can be managed, either by mitigation, avoidance, or insurance, in order to prevent them from becoming natural *disasters*. The consultancy firm you work for has been hired by an independent advocacy group that wants to conduct an analysis of the US emergency management system of preparedness, protection, mitigation, response, and recovery, with the purpose of proposing legislative reforms to make it more effective and financially efficient. Their ultimate goal is to help increase the government's ability to prevent disasters from happening and reduce the negative impact of those that cannot be completely avoided.\n",
    "\n",
    "**Business Problem.** Your client would like to know which storm event types are more likely to become disasters, and in which locations, as measured by the number of deaths, injuries, and economic damage they cause. Additionally, they would like to conduct a preliminary assessment of whether the [Post-Katrina Emergency Management Reform Act of 2006](https://www.congress.gov/bill/109th-congress/senate-bill/3721) had any impact on the severity of the disasters that occurred after the bill was signed. This Act centralized the US emergency management under the coordination of the Federal Emergency Management Agency (FEMA) as a response to the enormous human and material losses that were caused by Hurricane Katrina in August 2005.\n",
    "\n",
    "**Analytical Context.** You have been provided with a compressed GZIP file of storm events from 1970 to 2020 as recorded by the US [National Oceanic and Atmospheric Administration](https://www.ncdc.noaa.gov/stormevents/ftp.jsp). You can check the [documentation](https://www1.ncdc.noaa.gov/pub/data/swdi/stormevents/csvfiles/Storm-Data-Bulk-csv-Format.pdf) for more information."
   ]
  },
  {
   "cell_type": "code",
   "execution_count": 1,
   "metadata": {
    "deletable": false,
    "editable": false,
    "nbgrader": {
     "cell_type": "code",
     "checksum": "0ef3a6ab2e4b8131e33b6bd41553b298",
     "grade": false,
     "grade_id": "cell-ca1aaed761c9949e",
     "locked": true,
     "schema_version": 3,
     "solution": false,
     "task": false
    }
   },
   "outputs": [],
   "source": [
    "# Importing relevant libraries\n",
    "import pandas as pd\n",
    "import matplotlib.pyplot as plt\n",
    "import seaborn as sns\n",
    "import folium\n",
    "import pingouin as pg"
   ]
  },
  {
   "cell_type": "markdown",
   "metadata": {
    "deletable": false,
    "editable": false,
    "nbgrader": {
     "cell_type": "markdown",
     "checksum": "18a02a43b4fae376c8965e0e1780005c",
     "grade": false,
     "grade_id": "cell-729dfe37685d56bd",
     "locked": true,
     "schema_version": 3,
     "solution": false,
     "task": false
    }
   },
   "source": [
    "## Loading in the dataset\n",
    "\n",
    "Let's load in the dataset. We add the `parse_dates` argument to tell pandas which columns should be interpreted as dates."
   ]
  },
  {
   "cell_type": "code",
   "execution_count": 2,
   "metadata": {
    "deletable": false,
    "editable": false,
    "nbgrader": {
     "cell_type": "code",
     "checksum": "81ba0885d45674ae55a5a7e5796fd832",
     "grade": false,
     "grade_id": "cell-90b86fc4ff0494b8",
     "locked": true,
     "schema_version": 3,
     "solution": false,
     "task": false
    }
   },
   "outputs": [
    {
     "data": {
      "text/html": [
       "<div>\n",
       "<style scoped>\n",
       "    .dataframe tbody tr th:only-of-type {\n",
       "        vertical-align: middle;\n",
       "    }\n",
       "\n",
       "    .dataframe tbody tr th {\n",
       "        vertical-align: top;\n",
       "    }\n",
       "\n",
       "    .dataframe thead th {\n",
       "        text-align: right;\n",
       "    }\n",
       "</style>\n",
       "<table border=\"1\" class=\"dataframe\">\n",
       "  <thead>\n",
       "    <tr style=\"text-align: right;\">\n",
       "      <th></th>\n",
       "      <th>EPISODE_ID</th>\n",
       "      <th>EVENT_ID</th>\n",
       "      <th>STATE</th>\n",
       "      <th>EVENT_TYPE</th>\n",
       "      <th>BEGIN_DATE_TIME</th>\n",
       "      <th>BEGIN_YEAR</th>\n",
       "      <th>CZ_TIMEZONE</th>\n",
       "      <th>END_DATE_TIME</th>\n",
       "      <th>TOR_F_SCALE</th>\n",
       "      <th>BEGIN_LOCATION</th>\n",
       "      <th>END_LOCATION</th>\n",
       "      <th>BEGIN_LAT</th>\n",
       "      <th>BEGIN_LON</th>\n",
       "      <th>END_LAT</th>\n",
       "      <th>END_LON</th>\n",
       "      <th>TOTAL_DEATHS</th>\n",
       "      <th>TOTAL_INJURIES</th>\n",
       "      <th>TOTAL_DAMAGE_DEFLATED</th>\n",
       "    </tr>\n",
       "  </thead>\n",
       "  <tbody>\n",
       "    <tr>\n",
       "      <th>0</th>\n",
       "      <td>NaN</td>\n",
       "      <td>9987739</td>\n",
       "      <td>COLORADO</td>\n",
       "      <td>hail</td>\n",
       "      <td>1983-07-22 16:40:00</td>\n",
       "      <td>1983.0</td>\n",
       "      <td>CST</td>\n",
       "      <td>1983-07-22 16:40:00</td>\n",
       "      <td>NaN</td>\n",
       "      <td>NaN</td>\n",
       "      <td>NaN</td>\n",
       "      <td>39.72</td>\n",
       "      <td>-104.60</td>\n",
       "      <td>NaN</td>\n",
       "      <td>NaN</td>\n",
       "      <td>0</td>\n",
       "      <td>0</td>\n",
       "      <td>0.0</td>\n",
       "    </tr>\n",
       "    <tr>\n",
       "      <th>1</th>\n",
       "      <td>NaN</td>\n",
       "      <td>9987740</td>\n",
       "      <td>COLORADO</td>\n",
       "      <td>hail</td>\n",
       "      <td>1983-07-22 16:45:00</td>\n",
       "      <td>1983.0</td>\n",
       "      <td>CST</td>\n",
       "      <td>1983-07-22 16:45:00</td>\n",
       "      <td>NaN</td>\n",
       "      <td>NaN</td>\n",
       "      <td>NaN</td>\n",
       "      <td>39.73</td>\n",
       "      <td>-104.87</td>\n",
       "      <td>NaN</td>\n",
       "      <td>NaN</td>\n",
       "      <td>0</td>\n",
       "      <td>0</td>\n",
       "      <td>0.0</td>\n",
       "    </tr>\n",
       "    <tr>\n",
       "      <th>2</th>\n",
       "      <td>NaN</td>\n",
       "      <td>9987741</td>\n",
       "      <td>COLORADO</td>\n",
       "      <td>hail</td>\n",
       "      <td>1983-07-22 16:45:00</td>\n",
       "      <td>1983.0</td>\n",
       "      <td>CST</td>\n",
       "      <td>1983-07-22 16:45:00</td>\n",
       "      <td>NaN</td>\n",
       "      <td>NaN</td>\n",
       "      <td>NaN</td>\n",
       "      <td>39.73</td>\n",
       "      <td>-104.93</td>\n",
       "      <td>NaN</td>\n",
       "      <td>NaN</td>\n",
       "      <td>0</td>\n",
       "      <td>0</td>\n",
       "      <td>0.0</td>\n",
       "    </tr>\n",
       "    <tr>\n",
       "      <th>3</th>\n",
       "      <td>NaN</td>\n",
       "      <td>9987735</td>\n",
       "      <td>COLORADO</td>\n",
       "      <td>hail</td>\n",
       "      <td>1983-07-22 16:20:00</td>\n",
       "      <td>1983.0</td>\n",
       "      <td>CST</td>\n",
       "      <td>1983-07-22 16:20:00</td>\n",
       "      <td>NaN</td>\n",
       "      <td>NaN</td>\n",
       "      <td>NaN</td>\n",
       "      <td>39.73</td>\n",
       "      <td>-104.85</td>\n",
       "      <td>NaN</td>\n",
       "      <td>NaN</td>\n",
       "      <td>0</td>\n",
       "      <td>0</td>\n",
       "      <td>0.0</td>\n",
       "    </tr>\n",
       "    <tr>\n",
       "      <th>4</th>\n",
       "      <td>NaN</td>\n",
       "      <td>9987736</td>\n",
       "      <td>COLORADO</td>\n",
       "      <td>hail</td>\n",
       "      <td>1983-07-22 16:25:00</td>\n",
       "      <td>1983.0</td>\n",
       "      <td>CST</td>\n",
       "      <td>1983-07-22 16:25:00</td>\n",
       "      <td>NaN</td>\n",
       "      <td>NaN</td>\n",
       "      <td>NaN</td>\n",
       "      <td>39.72</td>\n",
       "      <td>-104.82</td>\n",
       "      <td>NaN</td>\n",
       "      <td>NaN</td>\n",
       "      <td>0</td>\n",
       "      <td>0</td>\n",
       "      <td>0.0</td>\n",
       "    </tr>\n",
       "  </tbody>\n",
       "</table>\n",
       "</div>"
      ],
      "text/plain": [
       "   EPISODE_ID  EVENT_ID     STATE EVENT_TYPE     BEGIN_DATE_TIME  BEGIN_YEAR  \\\n",
       "0         NaN   9987739  COLORADO       hail 1983-07-22 16:40:00      1983.0   \n",
       "1         NaN   9987740  COLORADO       hail 1983-07-22 16:45:00      1983.0   \n",
       "2         NaN   9987741  COLORADO       hail 1983-07-22 16:45:00      1983.0   \n",
       "3         NaN   9987735  COLORADO       hail 1983-07-22 16:20:00      1983.0   \n",
       "4         NaN   9987736  COLORADO       hail 1983-07-22 16:25:00      1983.0   \n",
       "\n",
       "  CZ_TIMEZONE       END_DATE_TIME TOR_F_SCALE BEGIN_LOCATION END_LOCATION  \\\n",
       "0         CST 1983-07-22 16:40:00         NaN            NaN          NaN   \n",
       "1         CST 1983-07-22 16:45:00         NaN            NaN          NaN   \n",
       "2         CST 1983-07-22 16:45:00         NaN            NaN          NaN   \n",
       "3         CST 1983-07-22 16:20:00         NaN            NaN          NaN   \n",
       "4         CST 1983-07-22 16:25:00         NaN            NaN          NaN   \n",
       "\n",
       "   BEGIN_LAT  BEGIN_LON  END_LAT  END_LON  TOTAL_DEATHS  TOTAL_INJURIES  \\\n",
       "0      39.72    -104.60      NaN      NaN             0               0   \n",
       "1      39.73    -104.87      NaN      NaN             0               0   \n",
       "2      39.73    -104.93      NaN      NaN             0               0   \n",
       "3      39.73    -104.85      NaN      NaN             0               0   \n",
       "4      39.72    -104.82      NaN      NaN             0               0   \n",
       "\n",
       "   TOTAL_DAMAGE_DEFLATED  \n",
       "0                    0.0  \n",
       "1                    0.0  \n",
       "2                    0.0  \n",
       "3                    0.0  \n",
       "4                    0.0  "
      ]
     },
     "execution_count": 2,
     "metadata": {},
     "output_type": "execute_result"
    }
   ],
   "source": [
    "df = pd.read_csv(\"data/dataset.csv.gz\", parse_dates=[\"BEGIN_DATE_TIME\", \"END_DATE_TIME\"])\n",
    "df.head()"
   ]
  },
  {
   "cell_type": "markdown",
   "metadata": {
    "deletable": false,
    "editable": false,
    "nbgrader": {
     "cell_type": "markdown",
     "checksum": "2440a8810b1c780368af0cd3281cfd44",
     "grade": false,
     "grade_id": "cell-b134fb6706fa2eea",
     "locked": true,
     "schema_version": 3,
     "solution": false,
     "task": false
    }
   },
   "source": [
    "Here is a description of the imported columns:\n",
    "\n",
    "1. **EPISODE_ID**: The storm episode ID. A single episode can contain multiple events\n",
    "2. **EVENT_ID**: This is the ID of the actual storm as such. Several storms can be grouped into an episode\n",
    "3. **STATE**: The state or region where the event occurred\n",
    "4. **EVENT_TYPE**: The type of the event\n",
    "5. **BEGIN_DATE_TIME**: The date and time when the event started. Times and dates are in LST (Local Solar Time), which means that they reflect the local time, not a coordinated time\n",
    "6. **BEGIN_YEAR**: The year in which the event begun\n",
    "7. **CZ_TIMEZONE**: The timezone of the place where the event occurred\n",
    "8. **END_DATE_TIME**: The date and time when the event ended. Times and dates are in LST (Local Solar Time), which means that they reflect the local time, not a coordinated time\n",
    "9. **TOR_F_SCALE**: The [enhanced Fujita scale](https://en.wikipedia.org/wiki/Enhanced_Fujita_scale) (highest recorded value). This scale measures the strength of a tornado based on the amount of damage that it caused. A level of `EF0` means \"light damage\" (wind speeds of 40 - 72 mph), and a level of `EF5` means \"incredible damage\" (261 - 318 mph). `EFU` means \"Unknown\"\n",
    "10. **BEGIN_LOCATION**: The name of the city or village where the event started\n",
    "11. **END_LOCATION**: The name of the city or village where the event ended\n",
    "12. **BEGIN_LAT**: The latitude of the place where the event begun\n",
    "13. **BEGIN_LON**: The longitude of the place where the event begun\n",
    "14. **END_LAT**: The latitude of the place where the event ended\n",
    "15. **END_LON**: The longitude of the place where the event ended\n",
    "16. **TOTAL_DEATHS**: Deaths directly or indirectly attributable to the event\n",
    "17. **TOTAL_INJURIES**: Injuries directly or indirectly attributable to the event\n",
    "18.  **TOTAL_DAMAGE_DEFLATED**: Estimated damage to property and crops in dollars. These dollars are \"real\" dollars, which means that the damages for all the years have been converted ([deflated](https://faculty.fuqua.duke.edu/~rnau/Decision411_2007/411infla.htm)) to the value they would have had in 1982-84. This was done to make the damages comparable across years, since dollars [change purchasing power every year](https://www.insider.com/fast-food-burgers-cost-every-year-2018-9) due to inflation. The deflation was done using the Bureau of Labor Statistics Urban Consumer Price Index, whose base period is 1982-84."
   ]
  },
  {
   "cell_type": "markdown",
   "metadata": {
    "deletable": false,
    "editable": false,
    "nbgrader": {
     "cell_type": "markdown",
     "checksum": "f3314b40a13d9d7b7a16eaaeb4c7761f",
     "grade": false,
     "grade_id": "cell-5a3bce7fb87b04c0",
     "locked": true,
     "schema_version": 3,
     "solution": false,
     "task": false
    },
    "tags": [
     "40_min"
    ]
   },
   "source": [
    "## Exploratory data analysis (EDA)\n",
    "\n",
    "### Exercise 1\n",
    "\n",
    "A good first step in EDA is visualizing the univariate distributions of each feature in the dataset. Here's a numbered list of the columns:\n",
    "\n",
    "| Number \t| Column name \t|\n",
    "|-\t|-\t|\n",
    "| 1 \t| STATE \t|\n",
    "| 2 \t| EVENT_TYPE \t|\n",
    "| 3 \t| BEGIN_DATE_TIME \t|\n",
    "| 4 \t| BEGIN_YEAR \t|\n",
    "| 5 \t| CZ_TIMEZONE \t|\n",
    "| 6 \t| END_DATE_TIME \t|\n",
    "| 7 \t| TOR_F_SCALE \t|\n",
    "| 8 \t| BEGIN_LOCATION \t|\n",
    "| 9 \t| END_LOCATION \t|\n",
    "| 10 \t| BEGIN_LAT \t|\n",
    "| 11 \t| BEGIN_LON \t|\n",
    "| 12 \t| END_LAT \t|\n",
    "| 13 \t| END_LON \t|\n",
    "| 14 \t| TOTAL_DEATHS \t|\n",
    "| 15 \t| TOTAL_INJURIES \t|\n",
    "| 16 \t| TOTAL_DAMAGE_DEFLATED \t|\n",
    "\n",
    "Modify the function below to indicate which visualizations are well-suited to exploring the univariate distributions of each one of the columns. Append the number of the feature to the corresponding list.\n",
    "\n",
    "Some things to keep in mind:\n",
    "\n",
    "1. Please provide visualization choices for *each* of the features.\n",
    "2. If you believe that a visualization doesn't apply to any of the columns, simply leave it as an empty list.\n",
    "3. A single feature can be added to more than one visualization's corresponding list."
   ]
  },
  {
   "cell_type": "code",
   "execution_count": 3,
   "metadata": {
    "deletable": false,
    "nbgrader": {
     "cell_type": "code",
     "checksum": "b6a0ead30f180905e264b738cef843aa",
     "grade": false,
     "grade_id": "cell-44a893d8ae368d56",
     "locked": false,
     "schema_version": 3,
     "solution": true,
     "task": false
    }
   },
   "outputs": [
    {
     "data": {
      "text/plain": [
       "{'histogram': [1, 2, 4, 5, 7, 14, 15, 16],\n",
       " 'barplot': [],\n",
       " 'boxplot': [],\n",
       " 'geoheatmap': [1, 8, 9, 10, 11, 12, 13],\n",
       " 'lineplot': [],\n",
       " 'densityplot': [3, 6]}"
      ]
     },
     "execution_count": 3,
     "metadata": {},
     "output_type": "execute_result"
    }
   ],
   "source": [
    "def visualization_choice():\n",
    "    \"\"\"\n",
    "    Returns the answer to exercise 1.\n",
    "    \n",
    "    Example:\n",
    "    Let's say you want to add features 1 and 16 to `barplot`. Just\n",
    "    add the numbers to the list. In other words, the line should\n",
    "    be `barplot = [1,16]`.\n",
    "    \"\"\"\n",
    "    \n",
    "    # HISTOGRAMS\n",
    "    histogram = [1, 2, 4, 5, 7, 14, 15, 16]\n",
    "    \n",
    "    # BAR PLOTS\n",
    "    barplot = []\n",
    "    \n",
    "    # BOX PLOTS\n",
    "    boxplot = []\n",
    "    \n",
    "    # GEO HEAT MAP\n",
    "    geoheatmap = [1, 8, 9, 10, 11, 12, 13]\n",
    "    \n",
    "    # LINE PLOT\n",
    "    lineplot = []\n",
    "    \n",
    "    # DENSITY PLOT\n",
    "    densityplot = [3, 6]\n",
    "    \n",
    "    # YOUR CODE HERE\n",
    "    \n",
    "    visualization_choices = {\n",
    "        \"histogram\":histogram,\n",
    "        \"barplot\":barplot,\n",
    "        \"boxplot\":boxplot,\n",
    "        \"geoheatmap\":geoheatmap,\n",
    "        \"lineplot\":lineplot,\n",
    "        \"densityplot\":densityplot,\n",
    "    }\n",
    "    \n",
    "    return visualization_choices\n",
    "\n",
    "visualization_choice()"
   ]
  },
  {
   "cell_type": "markdown",
   "metadata": {
    "deletable": false,
    "editable": false,
    "nbgrader": {
     "cell_type": "markdown",
     "checksum": "f360e1d74d5da2b3ee84081798230fd8",
     "grade": false,
     "grade_id": "cell-f0a64b0bf924b44d",
     "locked": true,
     "schema_version": 3,
     "solution": false,
     "task": false
    },
    "tags": [
     "10_min"
    ]
   },
   "source": [
    "### Exercise 2\n",
    "\n",
    "#### 2.1\n",
    "\n",
    "As discussed in the regular cases, it is important to compute summary statistics for each feature. We know that the damage caused by natural disasters usually has a distribution that is very skewed to the right. Which TWO of the following summary statistics would be MOST useful to confirm that this is the case for the `TOTAL_DEATHS`, `TOTAL_INJURIES`, and `TOTAL_DAMAGE_DEFLATED` columns?\n",
    "<ul>\n",
    "A. Count<br>\n",
    "B. Mean<br>\n",
    "C. Minimum<br>\n",
    "D. Maximum<br>\n",
    "E. 25th percentile<br>\n",
    "F. Median<br>\n",
    "G. 75th percentile<br>\n",
    "</ul>"
   ]
  },
  {
   "cell_type": "code",
   "execution_count": 4,
   "metadata": {
    "deletable": false,
    "nbgrader": {
     "cell_type": "code",
     "checksum": "dac3e6939174e44e1f77b2e89831c93d",
     "grade": false,
     "grade_id": "cell-6cc37984b8bd9b04",
     "locked": false,
     "schema_version": 3,
     "solution": true,
     "task": false
    }
   },
   "outputs": [
    {
     "data": {
      "text/plain": [
       "TOTAL_DEATHS  TOTAL_INJURIES  TOTAL_DAMAGE_DEFLATED\n",
       "0.000000      0.000000        0.000000e+00             8\n",
       "0.055690      0.321767        2.848700e+04             1\n",
       "0.015638      0.108185        1.493593e+03             1\n",
       "0.016393      0.006831        7.146394e+04             1\n",
       "0.016484      0.164835        6.278540e+02             1\n",
       "0.019202      0.084639        4.621787e+05             1\n",
       "0.020115      0.307471        3.521305e+03             1\n",
       "0.025599      0.020231        1.957724e+07             1\n",
       "0.026586      0.033818        1.571987e+04             1\n",
       "0.035126      0.083594        1.536689e+06             1\n",
       "0.039344      0.114754        3.370031e+03             1\n",
       "0.039958      0.026992        7.588848e+04             1\n",
       "0.043725      0.597956        7.520708e+03             1\n",
       "0.056926      0.368173        1.855717e+06             1\n",
       "0.014989      0.034261        1.849201e+05             1\n",
       "0.060555      1.111937        8.713665e+05             1\n",
       "0.086103      0.216516        3.141273e+05             1\n",
       "0.118434      0.450015        6.556369e+02             1\n",
       "0.118507      0.694262        8.681441e+02             1\n",
       "0.469194      0.398104        5.922764e+03             1\n",
       "0.554622      0.384454        3.341661e+03             1\n",
       "0.681396      2.102449        2.990049e+07             1\n",
       "0.746310      0.561808        6.603783e+01             1\n",
       "0.947368      0.421053        2.742419e+03             1\n",
       "0.970588      4.470588        2.267550e+06             1\n",
       "1.148148      0.740741        2.266464e+03             1\n",
       "0.015390      0.001889        9.011923e+03             1\n",
       "0.014849      0.183879        2.758134e+05             1\n",
       "0.000000      0.000000        3.036205e+01             1\n",
       "0.002380      0.025724        1.774563e+04             1\n",
       "0.000000      0.000000        4.224115e+02             1\n",
       "                              2.031125e+03             1\n",
       "                              1.126166e+04             1\n",
       "              0.000049        2.465936e+05             1\n",
       "              0.000461        7.818446e+00             1\n",
       "              4.000000        0.000000e+00             1\n",
       "0.000071      0.004548        4.413888e+04             1\n",
       "0.000250      0.000901        2.061862e+05             1\n",
       "0.001013      0.000633        5.209241e+02             1\n",
       "0.001139      0.027335        3.456014e+00             1\n",
       "0.001187      0.001687        8.575198e+01             1\n",
       "0.003800      0.018434        9.213663e+03             1\n",
       "0.014354      0.087342        7.879550e+02             1\n",
       "0.005204      0.019948        1.829344e+03             1\n",
       "0.005434      0.022812        1.018669e+05             1\n",
       "0.006984      0.037528        1.648499e+04             1\n",
       "0.007436      0.014321        1.907347e+04             1\n",
       "0.007707      0.007707        1.731128e+05             1\n",
       "0.008479      0.023887        2.997218e+04             1\n",
       "0.010900      0.050019        3.791971e+05             1\n",
       "0.012670      0.044252        4.520701e+04             1\n",
       "0.013320      0.005567        3.068489e+06             1\n",
       "0.013523      0.026892        1.734409e+04             1\n",
       "0.013970      0.013970        1.159756e+04             1\n",
       "25.000000     0.000000        1.108997e+09             1\n",
       "dtype: int64"
      ]
     },
     "execution_count": 4,
     "metadata": {},
     "output_type": "execute_result"
    }
   ],
   "source": [
    "def summary_choice():\n",
    "    \"\"\"\n",
    "    Returns the two options you chose.\n",
    "    \n",
    "    Uncomment the lines that correspond to your choice.\n",
    "    \"\"\"\n",
    "    \n",
    "    A = df.groupby([\"EVENT_TYPE\"])[[\"TOTAL_DEATHS\", \"TOTAL_INJURIES\", \"TOTAL_DAMAGE_DEFLATED\"]].count()\n",
    "    B = df.groupby([\"EVENT_TYPE\"])[[\"TOTAL_DEATHS\", \"TOTAL_INJURIES\", \"TOTAL_DAMAGE_DEFLATED\"]].mean()\n",
    "    C = df.groupby([\"EVENT_TYPE\"])[[\"TOTAL_DEATHS\", \"TOTAL_INJURIES\", \"TOTAL_DAMAGE_DEFLATED\"]].min()\n",
    "    D = df.groupby([\"EVENT_TYPE\"])[[\"TOTAL_DEATHS\", \"TOTAL_INJURIES\", \"TOTAL_DAMAGE_DEFLATED\"]].max()\n",
    "    E = df.groupby([\"EVENT_TYPE\"])[[\"TOTAL_DEATHS\", \"TOTAL_INJURIES\", \"TOTAL_DAMAGE_DEFLATED\"]].quantile(0.25)\n",
    "    F = df.groupby([\"EVENT_TYPE\"])[[\"TOTAL_DEATHS\", \"TOTAL_INJURIES\", \"TOTAL_DAMAGE_DEFLATED\"]].quantile(0.5)\n",
    "    G = df.groupby([\"EVENT_TYPE\"])[[\"TOTAL_DEATHS\", \"TOTAL_INJURIES\", \"TOTAL_DAMAGE_DEFLATED\"]].quantile(0.75)\n",
    "    \n",
    "    \n",
    "    answer = {}\n",
    "    #answer[\"A\"] = A\n",
    "    answer[\"B\"] = B\n",
    "    #answer[\"C\"] = C\n",
    "    #answer[\"D\"] = D\n",
    "    #answer[\"E\"] = E\n",
    "    answer[\"F\"] = F\n",
    "    #answer[\"G\"] = G\n",
    "    \n",
    "    # YOUR CODE HERE\n",
    "    \n",
    "    return answer\n",
    "\n",
    "summary_choice()[\"B\"].value_counts()"
   ]
  },
  {
   "cell_type": "markdown",
   "metadata": {
    "deletable": false,
    "editable": false,
    "nbgrader": {
     "cell_type": "markdown",
     "checksum": "ac1104f0b4a5adacae844848d91a1b0b",
     "grade": false,
     "grade_id": "cell-cb50d3faaca38b44",
     "locked": true,
     "points": 4,
     "schema_version": 3,
     "solution": false,
     "task": true
    },
    "tags": [
     "8_min"
    ]
   },
   "source": [
    "#### 2.2\n",
    "\n",
    "Inspect the tables of the two summary statistics you chose. What can you interpret from your results?\n",
    "\n",
    "**Note:** In this and all similar subsequent exercises, please answer in the cell that is immediately below this one (if you write in the same cell as the question, your answer will not be recorded).\n"
   ]
  },
  {
   "cell_type": "markdown",
   "metadata": {},
   "source": [
    "For the vast majority of event types, the median number of deaths, injuries, and deflated damage is 0, suggesting that at least half of those events cause no death, injury, or damages. However, the means for most event types are greater than 0; in the case of damages, many event type mean damages are on the order of hundreds of thousands of dollars. This indicates that the distribution of these variables is skewed to the right, with damages being heavily skewed."
   ]
  },
  {
   "cell_type": "markdown",
   "metadata": {
    "deletable": false,
    "editable": false,
    "nbgrader": {
     "cell_type": "markdown",
     "checksum": "8a6d528b15740345158d7b2bcd1d6899",
     "grade": false,
     "grade_id": "cell-c6741a6bb6b7a091",
     "locked": true,
     "points": 4,
     "schema_version": 3,
     "solution": false,
     "task": true
    },
    "tags": [
     "15_min"
    ]
   },
   "source": [
    "### Exercise 3\n",
    "\n",
    "\n",
    "Let's now look at some bivariate distributions. This is a pair plot of some of the numeric variables of the dataset:\n",
    "\n",
    "![Pairplot](data/images/pairplot.png)\n",
    "\n",
    "What useful insights can you gather from the plot?\n"
   ]
  },
  {
   "cell_type": "markdown",
   "metadata": {},
   "source": [
    "* There seems to be a correlation between injuries, deaths, and especially greater damages and later years, potentially as a result of more expensive development/infrastructure as time goes on, or climate change contributing to storm severity.\n",
    "* Storm events with the highest number of injuries, deaths, and damages seem to occur in the 30-40 latitude range around -100 longitude; the Great Plains area of the US where many tornadoes occur. This suggests tornadoes may be the most dangerous natural event.\n",
    "* Begin and end latitudes and longitudes are very tightly correlated with one another, suggesting storm events don't move very far.\n",
    "* Total injuries, deaths, and damages tend to be somewhat positively correlated, but not so strongly as to be obviously predictive of one another."
   ]
  },
  {
   "cell_type": "markdown",
   "metadata": {
    "deletable": false,
    "editable": false,
    "nbgrader": {
     "cell_type": "markdown",
     "checksum": "13468506803626660b9929d840aa6dd0",
     "grade": false,
     "grade_id": "cell-adb07f00ce30a94f",
     "locked": true,
     "schema_version": 3,
     "solution": false,
     "task": false
    },
    "tags": [
     "7_min"
    ]
   },
   "source": [
    "### Exercise 4\n",
    "\n",
    "Some storm events have a wider risk area than others, which can make them more worthy of attention for authorities. Which of these visualization strategies could be useful to find patterns related to the size of the risk area around storm events? Append the letters of all options that apply to the `answer` list in the function below.\n",
    "\n",
    "&nbsp;&nbsp;&nbsp;&nbsp; A. A scatter plot of `BEGIN_LAT` vs. `END_LAT`<br>\n",
    "&nbsp;&nbsp;&nbsp;&nbsp; B. A scatter plot of `BEGIN_LON` vs. `END_LON`<br>\n",
    "&nbsp;&nbsp;&nbsp;&nbsp; C. A geographic heat map of the count of `BEGIN_LOCATION` per event<br>\n",
    "&nbsp;&nbsp;&nbsp;&nbsp; D. A grouped geographic scatterplot of those events whose `BEGIN_LOCATION` and `END_LOCATION` do not coincide (in one color) vs. those in which they do coincide (in another color). (A geographic scatterplot is a scatterplot layered on top of a map, with the $x$- and $y$-coordinates being the longitude and the latitude of each point - see some examples [here](https://plotly.com/python/scatter-plots-on-maps/).)"
   ]
  },
  {
   "cell_type": "code",
   "execution_count": 5,
   "metadata": {
    "deletable": false,
    "nbgrader": {
     "cell_type": "code",
     "checksum": "4259efdf3bd0e42537300f2fc4c12731",
     "grade": false,
     "grade_id": "cell-90a2fa1b33bd82c5",
     "locked": false,
     "schema_version": 3,
     "solution": true,
     "task": false
    }
   },
   "outputs": [],
   "source": [
    "def geo_spread():\n",
    "    \"\"\"\n",
    "    Returns the selected answer\n",
    "    \"\"\"\n",
    "    \n",
    "    answer = []\n",
    "    \n",
    "    # YOUR CODE HERE\n",
    "    \n",
    "    answer.append([\"A\"])\n",
    "    answer.append([\"B\"])\n",
    "    # answer.append([\"C\"])\n",
    "    answer.append([\"D\"])\n",
    "    \n",
    "    return answer"
   ]
  },
  {
   "cell_type": "markdown",
   "metadata": {
    "deletable": false,
    "editable": false,
    "nbgrader": {
     "cell_type": "markdown",
     "checksum": "206e2189ee807ce7edc806b2dc5e14f0",
     "grade": false,
     "grade_id": "cell-b2f22c848786b5ba",
     "locked": true,
     "schema_version": 3,
     "solution": false,
     "task": false
    },
    "tags": [
     "30_min"
    ]
   },
   "source": [
    "### Exercise 5\n",
    "\n",
    "#### 5.1\n",
    "\n",
    "Plot one (or more) of your choices from the previous exercise."
   ]
  },
  {
   "cell_type": "code",
   "execution_count": 43,
   "metadata": {
    "deletable": false,
    "nbgrader": {
     "cell_type": "code",
     "checksum": "da5b19baf36d6b89b8537b8aa4326160",
     "grade": true,
     "grade_id": "cell-35f481a6ddbc527d",
     "locked": false,
     "points": 4,
     "schema_version": 3,
     "solution": true,
     "task": false
    }
   },
   "outputs": [
    {
     "data": {
      "image/png": "[encoded data removed]",
      "text/plain": [
       "<Figure size 864x432 with 2 Axes>"
      ]
     },
     "metadata": {
      "needs_background": "light"
     },
     "output_type": "display_data"
    }
   ],
   "source": [
    "# A. A scatter plot of `BEGIN_LAT` vs. `END_LAT`\n",
    "# B. A scatter plot of `BEGIN_LON` vs. `END_LON`\n",
    "\n",
    "fig = plt.figure(figsize=(12, 6))\n",
    "\n",
    "a = fig.add_subplot(121)\n",
    "b = fig.add_subplot(122)\n",
    "\n",
    "sns.scatterplot(ax=a, x='BEGIN_LAT', y='END_LAT', data=df)\n",
    "sns.scatterplot(ax=b, x='BEGIN_LON', y='END_LON', data=df)\n",
    "\n",
    "plt.subplots_adjust(hspace=0.5, top=0.90)\n",
    "fig.suptitle('Storm events risk area')\n",
    "a.set_title('Begin latitude vs. end latitude')\n",
    "b.set_title('Begin longitude vs. end longitude')\n",
    "plt.show()"
   ]
  },
  {
   "cell_type": "code",
   "execution_count": null,
   "metadata": {
    "scrolled": true
   },
   "outputs": [],
   "source": [
    "# D. A grouped geographic scatterplot of those events whose `BEGIN_LOCATION` and `END_LOCATION`\n",
    "\n",
    "# Prepare data for geographic scatterplot\n",
    "# Drop na's on location and lat/lon\n",
    "# Sample 3000 records to map successfully (too slow/doesn't work otherwise)\n",
    "# Create column to determine hue (0 if BEGIN_LOCATION and END_LOCATION do not coincide, 1 if they do)\n",
    "def map_data(df):\n",
    "    '''\n",
    "    Function to prepare dataframe for geographic scatterplot.\n",
    "    \n",
    "    Arg: df, a DataFrame\n",
    "    \n",
    "    Returns: DataFrame with missing locations dropped, and column for whether the storm was static or not\n",
    "    '''\n",
    "    # Drop records which do not have begin or end location data\n",
    "    new_df = df.dropna(subset=['BEGIN_LOCATION', 'END_LOCATION', 'BEGIN_LAT', 'BEGIN_LON'])\n",
    "    \n",
    "    # sample data\n",
    "    samp = new_df.sample(3000)\n",
    "    \n",
    "    # Create column 'static'; 0 if begin and end location are different, 1 if they are the same\n",
    "    samp['static'] = samp.apply(lambda row: 1 if row['BEGIN_LOCATION'] == row['END_LOCATION'] else 0, axis=1)\n",
    "    \n",
    "    return samp\n",
    "\n",
    "m = folium.Map(location=[40, -95], zoom_start=4)\n",
    "\n",
    "def map_coordinates(row):\n",
    "    '''\n",
    "    Function to map coordinates from a df to a folium Map.\n",
    "    \n",
    "    Arg: df row\n",
    "    \n",
    "    Returns: None\n",
    "    '''\n",
    "    \n",
    "    lat = row['BEGIN_LAT']\n",
    "    lon = row['BEGIN_LON']\n",
    "    \n",
    "    if row['static'] == 0:\n",
    "        color = 'red'\n",
    "    else:\n",
    "        color = 'blue'\n",
    "    \n",
    "    folium.Circle(\n",
    "        location=[lat, lon],\n",
    "        radius=1,\n",
    "        color=color,\n",
    "        fill=True,\n",
    "        fill_color=color,\n",
    "        tooltip='{}, {}'.format(lat, lon)\n",
    "    ).add_to(m)\n",
    "    \n",
    "map_data(df).apply(map_coordinates, axis=1)\n",
    "\n",
    "m"
   ]
  },
  {
   "cell_type": "markdown",
   "metadata": {
    "deletable": false,
    "editable": false,
    "nbgrader": {
     "cell_type": "markdown",
     "checksum": "ba20a2f062533d33ec5c4b646114c286",
     "grade": false,
     "grade_id": "cell-29d2496b4f5d86fc",
     "locked": true,
     "points": 2,
     "schema_version": 3,
     "solution": false,
     "task": true
    },
    "tags": [
     "10_min"
    ]
   },
   "source": [
    "#### 5.2\n",
    "\n",
    "Write down your findings in the cell below.\n"
   ]
  },
  {
   "cell_type": "markdown",
   "metadata": {},
   "source": [
    "**Your answer here.**"
   ]
  },
  {
   "cell_type": "markdown",
   "metadata": {
    "deletable": false,
    "editable": false,
    "nbgrader": {
     "cell_type": "markdown",
     "checksum": "0ccf47e5e10f27a99028ee7a95a656dd",
     "grade": false,
     "grade_id": "cell-57a3e002c09a6f91",
     "locked": true,
     "points": 4,
     "schema_version": 3,
     "solution": false,
     "task": true
    },
    "tags": [
     "10_min"
    ]
   },
   "source": [
    "### Exercise 6\n",
    "\n",
    "In the context of natural disaster management, risk is defined as the probability of an event happening times the hazard that its occurrence may pose (that is, the potential damages that could happen if the event takes place):\n",
    "\n",
    "$$Risk = Probability \\times Hazard$$\n",
    "\n",
    "The estimation of risk is part of what is sometimes called \"risk assessment\". \n",
    "\n",
    "Since we are still in the exploratory phase, we do not want to start modeling right away. We would like to rely on plots and visualizations instead.\n",
    "\n",
    "Describe a data visualization strategy that includes metrics and plots of different kinds to estimate:\n",
    "\n",
    "1. which storm types are most likely to happen in a given month;\n",
    "2. how large the economic damages caused by the storms would be; and\n",
    "3. in which locations the storms are most likely to happen\n"
   ]
  },
  {
   "cell_type": "markdown",
   "metadata": {},
   "source": [
    "**Your answer here.**"
   ]
  },
  {
   "cell_type": "markdown",
   "metadata": {
    "deletable": false,
    "editable": false,
    "nbgrader": {
     "cell_type": "markdown",
     "checksum": "384bc168cad4588c7bfdd5c4c9883cf9",
     "grade": false,
     "grade_id": "cell-eb59a2be5bb4daf0",
     "locked": true,
     "schema_version": 3,
     "solution": false,
     "task": false
    },
    "tags": [
     "20_min"
    ]
   },
   "source": [
    "### Exercise 7\n",
    "\n",
    "Code at least one of the visualizations you proposed in the previous exercise."
   ]
  },
  {
   "cell_type": "code",
   "execution_count": null,
   "metadata": {
    "deletable": false,
    "nbgrader": {
     "cell_type": "code",
     "checksum": "0d5882f2910501808e658d8bdd770a14",
     "grade": true,
     "grade_id": "cell-47731d5b2e81022b",
     "locked": false,
     "points": 4,
     "schema_version": 3,
     "solution": true,
     "task": false
    }
   },
   "outputs": [],
   "source": [
    "# YOUR CODE HERE\n",
    "raise NotImplementedError() # Remove this line when you enter your solution"
   ]
  },
  {
   "cell_type": "markdown",
   "metadata": {
    "deletable": false,
    "editable": false,
    "nbgrader": {
     "cell_type": "markdown",
     "checksum": "279c90f6c3cca92b762cf138594095c4",
     "grade": false,
     "grade_id": "cell-e09c568497bbcaa9",
     "locked": true,
     "schema_version": 3,
     "solution": false,
     "task": false
    }
   },
   "source": [
    "## The Post-Katrina Emergency Management Reform Act of 2006"
   ]
  },
  {
   "cell_type": "markdown",
   "metadata": {
    "deletable": false,
    "editable": false,
    "nbgrader": {
     "cell_type": "markdown",
     "checksum": "c97d322be986ce1aaf196db604ec085a",
     "grade": false,
     "grade_id": "cell-0085dc0af6023abd",
     "locked": true,
     "schema_version": 3,
     "solution": false,
     "task": false
    },
    "tags": [
     "30_min"
    ]
   },
   "source": [
    "### Exercise 8 (hard)\n",
    "\n",
    "#### 8.1\n",
    "\n",
    "Conduct a hypothesis test for each event type to assess whether there is a difference in average total damage when comparing disasters that happened before the reform to those that happened after. Keep only the event types for which you found a significant difference (using a significance threshold of $\\alpha=0.01$). Since it is likely that not all events that have happened in the US are present in this dataset, we can interpret the data as being a sample (conducting hypothesis tests on population data would not make sense).\n",
    "\n",
    "**Note:** If an event type does not have associated events either before or after the Act, ignore it and don't add it to the dictionary (since a $t$ - test won't be possible)\n",
    "\n",
    "<details>\n",
    "    <summary markdown=\"span\">\n",
    "        <br>Click here for a <b>Hint</b>\n",
    "    </summary>\n",
    "    <blockquote>\n",
    "        Use the <a href=\"https://pingouin-stats.org/generated/pingouin.ttest.html\"><code>.ttest()</code></a> function from the <code>pingouin</code> library.\n",
    "    </blockquote>\n",
    "</details>"
   ]
  },
  {
   "cell_type": "code",
   "execution_count": null,
   "metadata": {
    "deletable": false,
    "nbgrader": {
     "cell_type": "code",
     "checksum": "4cf75e66970da67a5626842393ae8049",
     "grade": false,
     "grade_id": "cell-d8057066d450d1b7",
     "locked": false,
     "schema_version": 3,
     "solution": true,
     "task": false
    }
   },
   "outputs": [],
   "source": [
    "df[\"POST_ACT\"] = df[\"BEGIN_YEAR\"] > 2006\n",
    "\n",
    "def test_differences(df):\n",
    "    \"\"\"\n",
    "    Conducts a t-test on TOTAL_DAMAGES comparing events\n",
    "    that happened in 2006 or before with events that\n",
    "    happenned after that year.\n",
    "    \n",
    "    Inputs:\n",
    "    `df`: A pandas DataFrame\n",
    "    \n",
    "    Outputs:\n",
    "    `p_values_signif`: A Python dictionary in which the keys are the event type\n",
    "    and the values are the significant p-values that resulted from the t-test (alpha\n",
    "    of 0.01)\n",
    "    \n",
    "    Note: If an event type does not have associated events either before or\n",
    "    after the act, ignore it and don't add it to the dictionary (since a t-test\n",
    "    won't be possible)\n",
    "    \"\"\"\n",
    "      \n",
    "    pre_dam = df[df[\"POST_ACT\"]==False][[\"EVENT_TYPE\", \"TOTAL_DAMAGE_DEFLATED\"]].dropna(how=\"any\")\n",
    "    post_dam = df[df[\"POST_ACT\"]==True][[\"EVENT_TYPE\", \"TOTAL_DAMAGE_DEFLATED\"]].dropna(how=\"any\")\n",
    "    \n",
    "    # YOUR CODE HERE\n",
    "    raise NotImplementedError() # Remove this line when you enter your solution\n",
    "    return p_values_signif"
   ]
  },
  {
   "cell_type": "markdown",
   "metadata": {
    "deletable": false,
    "editable": false,
    "nbgrader": {
     "cell_type": "markdown",
     "checksum": "1a0835ac919440fab7bc50afbfddb88b",
     "grade": false,
     "grade_id": "cell-c14182c9ce36da28",
     "locked": true,
     "schema_version": 3,
     "solution": false,
     "task": false
    },
    "tags": [
     "15_min"
    ]
   },
   "source": [
    "#### 8.2\n",
    "\n",
    "For these significant event types, plot their total deflated damages as box plots, comparing the pre-Act events with the post-Act events."
   ]
  },
  {
   "cell_type": "code",
   "execution_count": null,
   "metadata": {
    "deletable": false,
    "nbgrader": {
     "cell_type": "code",
     "checksum": "5e49aa9b21fd626682ae1b5d304a4e24",
     "grade": true,
     "grade_id": "cell-e7b19a29d928da01",
     "locked": false,
     "points": 4,
     "schema_version": 3,
     "solution": true,
     "task": false
    }
   },
   "outputs": [],
   "source": [
    "# YOUR CODE HERE\n",
    "raise NotImplementedError() # Remove this line when you enter your solution"
   ]
  },
  {
   "cell_type": "markdown",
   "metadata": {
    "deletable": false,
    "editable": false,
    "nbgrader": {
     "cell_type": "markdown",
     "checksum": "5f52b370c529a25f230b16730ec38da1",
     "grade": false,
     "grade_id": "cell-382e8ad0123635a1",
     "locked": true,
     "points": 4,
     "schema_version": 3,
     "solution": false,
     "task": true
    },
    "tags": [
     "15_min"
    ]
   },
   "source": [
    "#### 8.3\n",
    "\n",
    "What conclusions can you draw from the hypothesis tests you have just conducted, and why?\n"
   ]
  },
  {
   "cell_type": "markdown",
   "metadata": {},
   "source": [
    "**Your answer here.**"
   ]
  },
  {
   "cell_type": "markdown",
   "metadata": {
    "deletable": false,
    "editable": false,
    "nbgrader": {
     "cell_type": "markdown",
     "checksum": "14efe4e11e103b840bc75e86cd17b2a8",
     "grade": false,
     "grade_id": "cell-507de8f39bb3d782",
     "locked": true,
     "schema_version": 3,
     "solution": false,
     "task": false
    }
   },
   "source": [
    "## Testing cells"
   ]
  },
  {
   "cell_type": "code",
   "execution_count": null,
   "metadata": {
    "deletable": false,
    "editable": false,
    "nbgrader": {
     "cell_type": "code",
     "checksum": "225e956a5f25482ddbb368f9872ab709",
     "grade": true,
     "grade_id": "cell-edc3ec41ffe69c52",
     "locked": true,
     "points": 4,
     "schema_version": 3,
     "solution": false,
     "task": false
    }
   },
   "outputs": [],
   "source": [
    "# Ex. 1\n",
    "ex1 = visualization_choice()\n",
    "c = set()\n",
    "for key in ex1.keys():\n",
    "    for i in ex1[key]:\n",
    "        c.add(i)\n",
    "assert len(c - {1, 2, 3, 4, 5, 6, 7, 8, 9, 10, 11, 12, 13, 14, 15, 16}) == 0, \"Ex. 1 - It seems you included a number that is not one of the column IDs!\"\n",
    "assert c == {1, 2, 3, 4, 5, 6, 7, 8, 9, 10, 11, 12, 13, 14, 15, 16}, \"Ex. 1 - It seems you did not add a visualization for all the columns!\"\n",
    "print(\"Exercise 1 passed our preliminary screening. You will get the final grade after your TA has reviewed your submission!\")"
   ]
  },
  {
   "cell_type": "code",
   "execution_count": null,
   "metadata": {
    "deletable": false,
    "editable": false,
    "nbgrader": {
     "cell_type": "code",
     "checksum": "76e97fe0cec87094563a546c91fdcbd7",
     "grade": true,
     "grade_id": "cell-bb9ac3e19bfa2b3d",
     "locked": true,
     "points": 2,
     "schema_version": 3,
     "solution": false,
     "task": false
    }
   },
   "outputs": [],
   "source": [
    "# Ex. 2\n",
    "ans_2 = summary_choice().keys()\n",
    "assert len(ans_2) == 2, \"Ex. 2.1 - Please choose exactly two summary statistics!\"\n",
    "print(\"Exercise 2.1 passed our preliminary screening. You will get the final grade after your TA has reviewed your submission!\")"
   ]
  },
  {
   "cell_type": "code",
   "execution_count": null,
   "metadata": {
    "deletable": false,
    "editable": false,
    "nbgrader": {
     "cell_type": "code",
     "checksum": "ecb1c1b696a6136a2a3196e00fba5640",
     "grade": true,
     "grade_id": "cell-65ffb1c301fcb67b",
     "locked": true,
     "points": 2,
     "schema_version": 3,
     "solution": false,
     "task": false
    }
   },
   "outputs": [],
   "source": [
    "# Ex. 4\n",
    "assert len(geo_spread()) > 0, \"Ex. 4 - Please choose at least one option!\"\n",
    "print(\"Exercise 4 passed our preliminary screening. You will get the final grade after your TA has reviewed your submission!\")"
   ]
  },
  {
   "cell_type": "code",
   "execution_count": null,
   "metadata": {
    "deletable": false,
    "editable": false,
    "nbgrader": {
     "cell_type": "code",
     "checksum": "db4d907f664fbe0e19be98044ee75baf",
     "grade": true,
     "grade_id": "cell-f7caf6bc179cc69a",
     "locked": true,
     "points": 4,
     "schema_version": 3,
     "solution": false,
     "task": false
    }
   },
   "outputs": [],
   "source": [
    "# Ex. 8.1\n",
    "import warnings\n",
    "warnings.filterwarnings(\"ignore\")\n",
    "p_values_signif = test_differences(df)\n",
    "assert len(p_values_signif)==9, \"Ex. 8.1 - Your output seems to have the wrong number of elements! Remember to use an alpha of 0.01 (not 0.05)\"\n",
    "s = 0\n",
    "for key in p_values_signif.keys():\n",
    "    s = s+p_values_signif[key]\n",
    "assert s < 0.015, \"Ex. 8.1 - Your p-values are apparently too large! Remember to use an alpha of 0.01 (not 0.05)\"\n",
    "print(\"Exercise 8.1 passed our preliminary screening. You will get the final grade after your TA has reviewed your submission!\")\n",
    "print(\"Exercise 8.1 looks correct!\")"
   ]
  },
  {
   "cell_type": "markdown",
   "metadata": {},
   "source": [
    "## Attribution\n",
    "\n",
    "\"Storm Events Database\", 20 Nov 2020, National Oceanic and Atmospheric Administration, Licensed under the [Freedom of Information Act](https://www.noaa.gov/organization/information-technology/freedom-of-information-act), https://www.ncdc.noaa.gov/stormevents/ftp.jsp\n",
    "\n",
    "\"F5 tornado Elie Manitoba 2007\", 22 Jun 2017, Justin Hobson, Creative Commons Attribution-Share Alike 3.0 Unported license, https://commons.wikimedia.org/wiki/File:F5_tornado_Elie_Manitoba_2007.jpg\n",
    "\n",
    "\"Historical Consumer Price Index for All Urban Consumers (CPI-U): U.S. city average, all items, index averages\", March, 2021, Licensed under the [Freedom of Information Act](https://www.bls.gov/bls/blsfoia.htm), https://www.bls.gov/cpi/tables/supplemental-files/historical-cpi-u-202103.pdf (the value for 2021 corresponds to the three-month average between January and March)."
   ]
  }
 ],
 "metadata": {
  "c1_recart": "6.4.1-SNAPSHOT-PR-3859-57c20131aabc1dc2a8c675852d80a7da",
  "kernelspec": {
   "display_name": "Python 3",
   "language": "python",
   "name": "python3"
  },
  "language_info": {
   "codemirror_mode": {
    "name": "ipython",
    "version": 3
   },
   "file_extension": ".py",
   "mimetype": "text/x-python",
   "name": "python",
   "nbconvert_exporter": "python",
   "pygments_lexer": "ipython3",
   "version": "3.7.3"
  },
  "varInspector": {
   "cols": {
    "lenName": 16,
    "lenType": 16,
    "lenVar": 40
   },
   "kernels_config": {
    "python": {
     "delete_cmd_postfix": "",
     "delete_cmd_prefix": "del ",
     "library": "var_list.py",
     "varRefreshCmd": "print(var_dic_list())"
    },
    "r": {
     "delete_cmd_postfix": ") ",
     "delete_cmd_prefix": "rm(",
     "library": "var_list.r",
     "varRefreshCmd": "cat(var_dic_list()) "
    }
   },
   "types_to_exclude": [
    "module",
    "function",
    "builtin_function_or_method",
    "instance",
    "_Feature"
   ],
   "window_display": false
  }
 },
 "nbformat": 4,
 "nbformat_minor": 2
}
